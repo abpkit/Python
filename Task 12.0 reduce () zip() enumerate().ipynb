{
 "cells": [
  {
   "cell_type": "code",
   "execution_count": null,
   "metadata": {},
   "outputs": [],
   "source": [
    "\"\"\"\n",
    "Task10 : Go through¶\n",
    "reduce()\n",
    "zip()\n",
    "enumerate()\n",
    "\n",
    "\"\"\""
   ]
  },
  {
   "cell_type": "markdown",
   "metadata": {},
   "source": [
    "# reduce()\n",
    "Reduce allows you to perform cumulative tasks on your iterables.\n",
    "1) Syntax----->\n",
    "   reduce(func,iterable)\n",
    "2) Parameter : func:\n",
    "                    a continues method to execute on each element of the iterable object. \n",
    "                    Last result is new parameter of next execution.\n",
    "3) Return value \n",
    "In python3, reduce() moved to functools module, so before we use it, we need to import it from functools."
   ]
  },
  {
   "cell_type": "code",
   "execution_count": 8,
   "metadata": {},
   "outputs": [
    {
     "data": {
      "text/plain": [
       "30"
      ]
     },
     "execution_count": 8,
     "metadata": {},
     "output_type": "execute_result"
    }
   ],
   "source": [
    "# 1st example\n",
    "from functools import reduce\n",
    "list = [1,3,2,5]\n",
    "product = reduce(lambda a,b: a*b, list)\n",
    "product"
   ]
  },
  {
   "cell_type": "code",
   "execution_count": 10,
   "metadata": {},
   "outputs": [
    {
     "name": "stdout",
     "output_type": "stream",
     "text": [
      "The sum of 1,2,3,4 is: 10.\n"
     ]
    }
   ],
   "source": [
    "# 2nd example \n",
    "def do_sum(num1,num2):\n",
    "    return num1 + num2\n",
    "print(f\"The sum of 1,2,3,4 is: {reduce(do_sum, [1,2,3,4])}.\")"
   ]
  },
  {
   "cell_type": "code",
   "execution_count": 11,
   "metadata": {},
   "outputs": [
    {
     "name": "stdout",
     "output_type": "stream",
     "text": [
      "The product of 1,2,3,4 is: 24.\n"
     ]
    }
   ],
   "source": [
    "# 3rd example \n",
    "def do_product(num1,num2):\n",
    "    return num1*num2\n",
    "print(f\"The product of 1,2,3,4 is: {reduce(do_product, [1,2,3,4])}.\")"
   ]
  },
  {
   "cell_type": "markdown",
   "metadata": {},
   "source": [
    "# zip()\n",
    "With zip you can combine multiple iterables into one data structure (packed).\n",
    "1) Syntax------>\n",
    "   zip(*iterators)\n",
    "2) Parameters :\n",
    "   iterators is iterable object such as List, String\n",
    "3) Return value:\n",
    "   Single iterator object, contaning index value from packed object"
   ]
  },
  {
   "cell_type": "code",
   "execution_count": 12,
   "metadata": {},
   "outputs": [
    {
     "name": "stdout",
     "output_type": "stream",
     "text": [
      "{'name': 'Apple', 'age': '44'}\n"
     ]
    }
   ],
   "source": [
    "# 1st example\n",
    "keys = [\"name\",\"age\"]\n",
    "values = [\"Apple\",\"44\"]\n",
    "apple_dict = dict(zip(keys, values))\n",
    "print(apple_dict)"
   ]
  },
  {
   "cell_type": "code",
   "execution_count": 5,
   "metadata": {},
   "outputs": [
    {
     "data": {
      "text/plain": [
       "{'Apple': '44', 'Google': '21', 'Microsoft': '44'}"
      ]
     },
     "execution_count": 5,
     "metadata": {},
     "output_type": "execute_result"
    }
   ],
   "source": [
    "# 2nd example.\n",
    "names = ['Apple','Google','Microsoft']\n",
    "ages = ['44','21','44']\n",
    "values = ['100','80','60']\n",
    "mapped_values = dict(zip(names,ages))\n",
    "mapped_values"
   ]
  },
  {
   "cell_type": "markdown",
   "metadata": {},
   "source": [
    "# Enumerate()\n",
    "When we deal with iterators, we also get a need to keep a count of iterationds.\n",
    "Python eases the task of programmer by providing built in function enumerate() for this task.\n",
    "Enumerate() method adds counter to iterable and returns it in form of enumerating object. \n",
    "This enumerated object can then be used directly for loops or converted into a list of tuple using list() method.\n",
    "\n",
    "Syntax------>\n",
    "enumerate(iterable, start=0)\n",
    "\n",
    "Iterable : any object that supports iteration\n",
    "start : the index value from which the counter is to be started, by default it is 0.\n"
   ]
  },
  {
   "cell_type": "code",
   "execution_count": 2,
   "metadata": {},
   "outputs": [
    {
     "name": "stdout",
     "output_type": "stream",
     "text": [
      "Player type: <class 'enumerate'>\n",
      "[(0, 'sachin'), (1, 'sehvagh'), (2, 'kohli')]\n",
      "[(2, 'h'), (3, 'e'), (4, 'a'), (5, 't'), (6, 'e'), (7, 'r'), (8, 's')]\n"
     ]
    }
   ],
   "source": [
    "l1 = [\"sachin\",\"sehvagh\",\"kohli\"]\n",
    "s1 = \"heaters\"\n",
    "#creating enumerate objects\n",
    "obj1 = enumerate(l1)\n",
    "obj2 = enumerate(s1)\n",
    "print(\"Player type:\",type(obj1))\n",
    "print(list(enumerate(l1)))\n",
    "#changing start index to 2 from 0\n",
    "print(list(enumerate(s1,2)))"
   ]
  },
  {
   "cell_type": "code",
   "execution_count": null,
   "metadata": {},
   "outputs": [],
   "source": []
  }
 ],
 "metadata": {
  "kernelspec": {
   "display_name": "Python 3",
   "language": "python",
   "name": "python3"
  },
  "language_info": {
   "codemirror_mode": {
    "name": "ipython",
    "version": 3
   },
   "file_extension": ".py",
   "mimetype": "text/x-python",
   "name": "python",
   "nbconvert_exporter": "python",
   "pygments_lexer": "ipython3",
   "version": "3.8.5"
  }
 },
 "nbformat": 4,
 "nbformat_minor": 4
}
