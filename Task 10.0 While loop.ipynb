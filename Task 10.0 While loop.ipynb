{
 "cells": [
  {
   "cell_type": "markdown",
   "metadata": {},
   "source": [
    "# Task 10.1 = what is the uasge of continue wiith an example"
   ]
  },
  {
   "cell_type": "code",
   "execution_count": 5,
   "metadata": {},
   "outputs": [
    {
     "name": "stdout",
     "output_type": "stream",
     "text": [
      "Monday\n",
      "Today is working day-Tuesday\n",
      "Today is working day-Wednesday\n",
      "Today is working day-Thursday\n",
      "Today is working day-Friday\n",
      "Today is working day-Saturday\n",
      "Today is working day-Today is holiday\n"
     ]
    }
   ],
   "source": [
    "days=['Monday','Tuesday','Wednesday','Thursday','Friday','Saturday']\n",
    "for i in days:\n",
    "    print(i)\n",
    "    if(i!='Sunday'):\n",
    "        print(\"Today is working day\",end='-')\n",
    "else:\n",
    "    print(\"Today is holiday\")"
   ]
  },
  {
   "cell_type": "markdown",
   "metadata": {},
   "source": [
    "# Task 10.2 What is pass keyword, with example"
   ]
  },
  {
   "cell_type": "code",
   "execution_count": null,
   "metadata": {},
   "outputs": [],
   "source": [
    "# To avoid getting an error when empty code is not allowed. And empty code is not allowed in loops, if else, function, class.\n",
    "# The pass statement is used as placeholder for future code."
   ]
  },
  {
   "cell_type": "code",
   "execution_count": null,
   "metadata": {},
   "outputs": [],
   "source": [
    "list = ['a','b','c','d']\n",
    "for i in list:\n",
    "    if (i=='a'):\n",
    "        pass\n",
    "    else:\n",
    "        print(i)"
   ]
  },
  {
   "cell_type": "code",
   "execution_count": null,
   "metadata": {},
   "outputs": [],
   "source": []
  },
  {
   "cell_type": "markdown",
   "metadata": {},
   "source": [
    "# Task 10"
   ]
  },
  {
   "cell_type": "code",
   "execution_count": null,
   "metadata": {},
   "outputs": [],
   "source": [
    "#using while loop print numbers from 10 to 1\n"
   ]
  },
  {
   "cell_type": "code",
   "execution_count": 2,
   "metadata": {},
   "outputs": [
    {
     "name": "stdout",
     "output_type": "stream",
     "text": [
      "10\n",
      "9\n",
      "8\n",
      "7\n",
      "6\n",
      "5\n",
      "4\n",
      "3\n",
      "2\n",
      "1\n"
     ]
    }
   ],
   "source": [
    "number = 10\n",
    "while(number>0):\n",
    "    print(number,)\n",
    "    number=number-1"
   ]
  },
  {
   "cell_type": "code",
   "execution_count": null,
   "metadata": {},
   "outputs": [],
   "source": [
    "#try using for loop to loop over tuples,sets and dictionarie"
   ]
  },
  {
   "cell_type": "code",
   "execution_count": 6,
   "metadata": {},
   "outputs": [
    {
     "name": "stdout",
     "output_type": "stream",
     "text": [
      "A\n",
      "B\n",
      "C\n",
      "D\n",
      "1\n",
      "2\n",
      "3\n",
      "4\n",
      "P\n",
      "Q\n",
      "R\n",
      "S\n"
     ]
    }
   ],
   "source": [
    "tuple=('A','B','C','D')\n",
    "set={1,2,3,4}\n",
    "dict={\"P\":10,\"Q\":20,\"R\":30,\"S\":40}\n",
    "for i in tuple:\n",
    "    print(i)\n",
    "for i in set:\n",
    "    print(i)\n",
    "for i in dict:\n",
    "    print(i)"
   ]
  },
  {
   "cell_type": "code",
   "execution_count": null,
   "metadata": {},
   "outputs": [],
   "source": []
  }
 ],
 "metadata": {
  "kernelspec": {
   "display_name": "Python 3",
   "language": "python",
   "name": "python3"
  },
  "language_info": {
   "codemirror_mode": {
    "name": "ipython",
    "version": 3
   },
   "file_extension": ".py",
   "mimetype": "text/x-python",
   "name": "python",
   "nbconvert_exporter": "python",
   "pygments_lexer": "ipython3",
   "version": "3.8.5"
  }
 },
 "nbformat": 4,
 "nbformat_minor": 4
}
