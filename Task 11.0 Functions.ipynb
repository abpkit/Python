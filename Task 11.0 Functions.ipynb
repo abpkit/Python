{
 "cells": [
  {
   "cell_type": "raw",
   "metadata": {},
   "source": [
    "# 11.1 Explain Return keyword with example\n",
    "return statement is used to end the execution of function call and returns the result(value of expression following the return key word.\n",
    "The statement after return keyword are not executed.\n",
    "If the return statement is without any expression, then the speacial value None is returned.\n",
    "Return statement can not be used outside the function.\n",
    "\n",
    "Syntax------->\n",
    "def fun()\"\n",
    "    statements\n",
    "    .......\n",
    "    .......\n",
    "    return[expression]\n"
   ]
  },
  {
   "cell_type": "code",
   "execution_count": 6,
   "metadata": {},
   "outputs": [
    {
     "name": "stdout",
     "output_type": "stream",
     "text": [
      "Result of add function is 5\n",
      "\n",
      "Result of is_true function is True\n"
     ]
    }
   ],
   "source": [
    "#1. Example\n",
    "def add(a,b):\n",
    "    #returning sum of a and b\n",
    "    return a+b\n",
    "def is_true(a):\n",
    "    #returning boolean value of a\n",
    "    return bool(a)\n",
    "#calling function\n",
    "res = add(2,3)\n",
    "print(\"Result of add function is {}\".format(res))\n",
    "res = is_true(2<5)\n",
    "print(\"\\nResult of is_true function is {}\".format(res))"
   ]
  },
  {
   "cell_type": "code",
   "execution_count": 8,
   "metadata": {},
   "outputs": [
    {
     "name": "stdout",
     "output_type": "stream",
     "text": [
      "{'str': 'India', 'x': 30}\n"
     ]
    }
   ],
   "source": [
    "# 2. example\n",
    "def fun():\n",
    "    d = dict()\n",
    "    d['str'] = \"India\"\n",
    "    d['x'] = 30\n",
    "    return d\n",
    "d = fun()\n",
    "print(d)"
   ]
  },
  {
   "cell_type": "code",
   "execution_count": null,
   "metadata": {},
   "outputs": [],
   "source": [
    "\"\"\"Task11.2\n",
    "Ask 2 numbers from users and store it in num1 and num2\n",
    "Ask user to press 1 for addition,2 for subtraction,3 for multiplication and 4 for division\n",
    "create 4 seperate functions for each operation (i.e. addition,subtraction,multiplication and division)\n",
    "based on number given by user,call that perticular function and print the output\n",
    "\"\"\""
   ]
  },
  {
   "cell_type": "code",
   "execution_count": 2,
   "metadata": {},
   "outputs": [
    {
     "name": "stdout",
     "output_type": "stream",
     "text": [
      "Enter 1st number :22\n",
      "Enter 2nd number :11\n",
      "Enter 1 for addition \n",
      "Enter 2 for substraction \n",
      "Enter 3 for multiplication \n",
      "Enter 4 for division 4\n",
      "2.0\n"
     ]
    }
   ],
   "source": [
    "num1 = int(input(\"Enter 1st number :\"))\n",
    "num2 = int(input(\"Enter 2nd number :\"))\n",
    "num3 = int(input(\"Enter 1 for addition \\nEnter 2 for substraction \\nEnter 3 for multiplication \\nEnter 4 for division \"))\n",
    "def add():\n",
    "    answer=num1+num2\n",
    "    print(answer)\n",
    "def subs():\n",
    "    answer=num1-num2\n",
    "    print(answer)\n",
    "def mult():\n",
    "    answer=num1*num2\n",
    "    print(answer)\n",
    "def div():\n",
    "    answer=num1/num2\n",
    "    print(answer)\n",
    "if (num3==1):\n",
    "    add()\n",
    "elif (num3==2):\n",
    "    subs()\n",
    "elif (num3==3):\n",
    "    mult()\n",
    "elif (num3==4):\n",
    "    div()\n",
    "else:\n",
    "    print(\"Invalid operation entry\")\n",
    "    "
   ]
  },
  {
   "cell_type": "code",
   "execution_count": null,
   "metadata": {},
   "outputs": [],
   "source": []
  }
 ],
 "metadata": {
  "kernelspec": {
   "display_name": "Python 3",
   "language": "python",
   "name": "python3"
  },
  "language_info": {
   "codemirror_mode": {
    "name": "ipython",
    "version": 3
   },
   "file_extension": ".py",
   "mimetype": "text/x-python",
   "name": "python",
   "nbconvert_exporter": "python",
   "pygments_lexer": "ipython3",
   "version": "3.8.5"
  }
 },
 "nbformat": 4,
 "nbformat_minor": 4
}
